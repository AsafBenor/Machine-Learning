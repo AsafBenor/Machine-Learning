{
 "cells": [
  {
   "cell_type": "markdown",
   "metadata": {},
   "source": [
    "Import libraries"
   ]
  },
  {
   "cell_type": "markdown",
   "metadata": {},
   "source": [
    "Asaf Benor"
   ]
  },
  {
   "cell_type": "code",
   "execution_count": 5,
   "metadata": {},
   "outputs": [],
   "source": [
    "import scipy.io\n",
    "import scipy.special\n",
    "import numpy as np\n",
    "import matplotlib.pyplot as plt\n",
    "\n",
    "# Importing MNIST data\n",
    "mnist_dataset = scipy.io.loadmat('mnist_all.mat')  # Loading the dataset from a .mat file"
   ]
  },
  {
   "cell_type": "code",
   "execution_count": null,
   "metadata": {},
   "outputs": [],
   "source": [
    "# Setting the number of iterations for the K-means algorithm\n",
    "num_iterations = 45\n",
    "# Combining test data for all digits (0-9) into one array\n",
    "combined_test_data = np.vstack([mnist_dataset[f'test{digit}'] for digit in range(10)])\n",
    "data_shape = combined_test_data.shape\n",
    "# Calculating the total number of elements in the dataset\n",
    "total_elements = data_shape[0] * data_shape[1]\n",
    "# Preparing a cost tracking array\n",
    "error_tracking = np.zeros(num_iterations - 2)\n",
    "# Number of clusters\n",
    "clusters = 10\n",
    "\n",
    "# Flattening the image data for processing\n",
    "flattened_data = combined_test_data.reshape(total_elements, -1)\n",
    "\n",
    "# K-means Initialization\n",
    "initial_indices = np.random.randint(0, 256, size=clusters)\n",
    "cluster_centers = np.zeros((clusters, flattened_data.shape[1]))\n",
    "\n",
    "for idx in range(clusters):\n",
    "    cluster_centers[idx, :] = initial_indices[idx]\n",
    "\n",
    "# K-means Clustering Process\n",
    "for iteration in range(2, num_iterations - 2):\n",
    "    responsibilities = np.zeros((total_elements, clusters))\n",
    "    distances = np.zeros((total_elements, clusters))\n",
    "\n",
    "    # Compute distances and update responsibilities\n",
    "    for element_idx in range(total_elements):\n",
    "        for cluster_idx in range(clusters):\n",
    "            distances[element_idx, cluster_idx] = np.sum((flattened_data[element_idx, :] - cluster_centers[cluster_idx, :]) ** 2)\n",
    "        min_distance_idx = np.argmin(distances[element_idx, :])\n",
    "        responsibilities[element_idx, min_distance_idx] = 1\n",
    "\n",
    "    # Update cluster centers based on new assignments\n",
    "    cluster_sum = np.zeros(cluster_centers.shape)\n",
    "    sum_responsibilities = np.sum(responsibilities, axis=0)\n",
    "    total_cost = 0\n",
    "\n",
    "    for element_idx in range(total_elements):\n",
    "        for cluster_idx in range(clusters):\n",
    "            total_cost += responsibilities[element_idx, cluster_idx] * distances[element_idx, cluster_idx]\n",
    "            cluster_sum[cluster_idx, :] += responsibilities[element_idx, cluster_idx] * flattened_data[element_idx, :]\n",
    "\n",
    "    for cluster_idx in range(clusters):\n",
    "        if sum_responsibilities[cluster_idx] > 0:\n",
    "            cluster_centers[cluster_idx, :] = cluster_sum[cluster_idx, :] / sum_responsibilities[cluster_idx]\n",
    "\n",
    "    error_tracking[iteration - 2] = total_cost\n",
    "\n",
    "    # Check for convergence\n",
    "    if iteration > 2 and abs(error_tracking[iteration - 2] - error_tracking[iteration - 3]) < 5:\n",
    "        print(f\"Converged at iteration {iteration}\")\n",
    "        break\n",
    "\n",
    "    print(f\"Cost at iteration {iteration} is {total_cost}\")\n",
    "\n",
    "\n",
    "# Visualizing the cost reduction\n",
    "iteration_axis = np.arange(1, num_iterations - 2)\n",
    "plt.plot(iteration_axis, error_tracking)\n",
    "plt.title(\"cost as a function of iterations\")\n",
    "plt.xlabel(\"Iteration Number\")\n",
    "plt.ylabel(\"Total Error\")\n",
    "plt.xlim([1, iteration_axis.size])\n",
    "plt.show()"
   ]
  },
  {
   "cell_type": "code",
   "execution_count": null,
   "metadata": {},
   "outputs": [],
   "source": []
  },
  {
   "cell_type": "code",
   "execution_count": null,
   "metadata": {},
   "outputs": [],
   "source": []
  }
 ],
 "metadata": {
  "kernelspec": {
   "display_name": "Python 3 (ipykernel)",
   "language": "python",
   "name": "python3"
  },
  "language_info": {
   "codemirror_mode": {
    "name": "ipython",
    "version": 3
   },
   "file_extension": ".py",
   "mimetype": "text/x-python",
   "name": "python",
   "nbconvert_exporter": "python",
   "pygments_lexer": "ipython3",
   "version": "3.11.3"
  }
 },
 "nbformat": 4,
 "nbformat_minor": 2
}
